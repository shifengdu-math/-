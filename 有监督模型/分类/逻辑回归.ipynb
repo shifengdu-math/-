{
 "cells": [
  {
   "cell_type": "code",
   "execution_count": null,
   "metadata": {},
   "outputs": [],
   "source": [
    "'''\n",
    "损失函数为对数损失函数，也就是对数似然函数logloss\n",
    "逻辑回归需要对特征进行离散化。好处有以下5点：\n",
    "    1.增加非线性。将单一变量离散化为N个后，每个变量都有单独的权重，相当于为模型引入了非线性，能够提升模型的表达能力，加大拟合\n",
    "    2.速度快。离散化后会出现稀疏性，稀疏向量内积乘法运算速度快，方便存储。\n",
    "    3.鲁棒性。离散化后的特征对异常数据有很强的鲁棒性。\n",
    "    4.方便交叉和特征组合。\n",
    "    5.简化模型。\n",
    "    6.特征离散化后，模型会更稳定，比如如果对用户年龄离散化，20-30作为一个区间，不会因为一个用户年龄长了一岁就变成一个完全不同的人。\n",
    "    当然处于区间相邻处的样本会刚好相反，所以怎么划分区间是门学问。\n",
    "'''"
   ]
  },
  {
   "cell_type": "code",
   "execution_count": 30,
   "metadata": {},
   "outputs": [],
   "source": [
    "import pandas as pd\n",
    "import numpy as np\n",
    "\n",
    "from sklearn.model_selection import train_test_split  ##数据预处理——训练集测试集划分\n",
    "from sklearn.preprocessing import StandardScaler  ##数据预处理——标准化\n",
    "from sklearn.linear_model import LogisticRegression  ##模型选择——LR\n",
    "from sklearn.metrics import log_loss,accuracy_score,recall_score,classification_report  ## 评价指标 ——对数损失、分类评估。\n"
   ]
  },
  {
   "cell_type": "code",
   "execution_count": 7,
   "metadata": {},
   "outputs": [
    {
     "data": {
      "text/plain": [
       "(112915, 11)"
      ]
     },
     "execution_count": 7,
     "metadata": {},
     "output_type": "execute_result"
    }
   ],
   "source": [
    "# 1.获取数据\n",
    "df = pd.read_csv(fr'C:\\Users\\shifeng.du\\Desktop\\github\\sklearn-model\\data\\Logistic Regression\\KaggleCredit2.csv', index_col= 0)\n",
    "df.shape"
   ]
  },
  {
   "cell_type": "code",
   "execution_count": 26,
   "metadata": {},
   "outputs": [
    {
     "name": "stderr",
     "output_type": "stream",
     "text": [
      "c:\\Users\\shifeng.du\\AppData\\Local\\Programs\\Python\\Python310\\lib\\site-packages\\sklearn\\utils\\validation.py:1339: DataConversionWarning: A column-vector y was passed when a 1d array was expected. Please change the shape of y to (n_samples, ), for example using ravel().\n",
      "  y = column_or_1d(y, warn=True)\n",
      "c:\\Users\\shifeng.du\\AppData\\Local\\Programs\\Python\\Python310\\lib\\site-packages\\sklearn\\linear_model\\_logistic.py:1256: FutureWarning: 'multi_class' was deprecated in version 1.5 and will be removed in 1.7. Use OneVsRestClassifier(LogisticRegression(..)) instead. Leave it to its default value to avoid this warning.\n",
      "  warnings.warn(\n"
     ]
    },
    {
     "name": "stdout",
     "output_type": "stream",
     "text": [
      "0.9323500310637612\n",
      "0.9344224574321215\n",
      "0.505534703386351\n",
      "0.5049565634548568\n",
      "              precision    recall  f1-score   support\n",
      "\n",
      "          正例       0.93      1.00      0.97     20302\n",
      "          反例       0.56      0.01      0.02      1428\n",
      "\n",
      "    accuracy                           0.93     21730\n",
      "   macro avg       0.75      0.50      0.49     21730\n",
      "weighted avg       0.91      0.93      0.90     21730\n",
      "\n"
     ]
    },
    {
     "name": "stderr",
     "output_type": "stream",
     "text": [
      "c:\\Users\\shifeng.du\\AppData\\Local\\Programs\\Python\\Python310\\lib\\site-packages\\sklearn\\linear_model\\_sag.py:349: ConvergenceWarning: The max_iter was reached which means the coef_ did not converge\n",
      "  warnings.warn(\n"
     ]
    }
   ],
   "source": [
    "# 2.数据基本处理\n",
    "    # 2.1缺失值处理\n",
    "'''去除空值行'''\n",
    "df.dropna(inplace=True)\n",
    "    # 2.2确定特征值和目标值\n",
    "X = df.drop('SeriousDlqin2yrs', axis = 1)\n",
    "y = df[['SeriousDlqin2yrs']]\n",
    "    # 2.3分割数据，划分为训练集和验证集\n",
    "X_train, X_test, y_train, y_test = train_test_split(X, y, test_size=0.2, random_state=60)\n",
    "\n",
    "# 3.特征工程——标准化\n",
    "transfer = StandardScaler()\n",
    "X_train = transfer.fit_transform(X_train)\n",
    "X_test = transfer.fit_transform(X_test)\n",
    "\n",
    "# 4.建模\n",
    "LR_model = LogisticRegression(multi_class='ovr', solver='saga')\n",
    "LR_model.fit(X_train, y_train)\n",
    "\n",
    "\n",
    "# 5.预测得分\n",
    "train_score = LR_model.score(X_train, y_train)\n",
    "test_score = LR_model.score(X_test, y_test)\n",
    "print(train_score)\n",
    "print(test_score)\n",
    "\n",
    "# 6.模型评价\n",
    "y_predict = LR_model.predict(X_test)\n",
    "train_recall = recall_score(y_train, LR_model.predict(X_train), average='macro')\n",
    "test_recall = recall_score(y_test, LR_model.predict(X_test), average='macro')\n",
    "print(train_recall)\n",
    "print(test_recall)\n",
    "\n",
    "report = classification_report(y_test, y_predict, labels=(0,1), target_names=('正例','反例'))\n",
    "print(report)\n",
    "\n"
   ]
  },
  {
   "cell_type": "code",
   "execution_count": 31,
   "metadata": {},
   "outputs": [
    {
     "name": "stdout",
     "output_type": "stream",
     "text": [
      "0.9343764381040037\n"
     ]
    }
   ],
   "source": [
    "y_prob = LR_model.predict_proba(X_test)\n",
    "y_prd2 = [list(p>=0.3).index(1) for i,p in enumerate(y_prob)]\n",
    "'''这是自己设置0.3为阈值， 把大于0.3的看成1分类'''\n",
    "train_score=accuracy_score(y_test,y_prd2)\n",
    "print(train_score)"
   ]
  }
 ],
 "metadata": {
  "kernelspec": {
   "display_name": "Python 3",
   "language": "python",
   "name": "python3"
  },
  "language_info": {
   "codemirror_mode": {
    "name": "ipython",
    "version": 3
   },
   "file_extension": ".py",
   "mimetype": "text/x-python",
   "name": "python",
   "nbconvert_exporter": "python",
   "pygments_lexer": "ipython3",
   "version": "3.10.4"
  }
 },
 "nbformat": 4,
 "nbformat_minor": 2
}
