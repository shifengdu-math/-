{
 "cells": [
  {
   "cell_type": "code",
   "execution_count": 1,
   "metadata": {},
   "outputs": [
    {
     "name": "stderr",
     "output_type": "stream",
     "text": [
      "C:\\Users\\shifeng.du\\AppData\\Local\\Temp\\ipykernel_2540\\2763353775.py:12: FutureWarning: A value is trying to be set on a copy of a DataFrame or Series through chained assignment using an inplace method.\n",
      "The behavior will change in pandas 3.0. This inplace method will never work because the intermediate object on which we are setting values always behaves as a copy.\n",
      "\n",
      "For example, when doing 'df[col].method(value, inplace=True)', try using 'df.method({col: value}, inplace=True)' or df[col] = df[col].method(value) instead, to perform the operation inplace on the original object.\n",
      "\n",
      "\n",
      "  x[\"Age\"].fillna(x[\"Age\"].mean(), inplace=True)\n",
      "C:\\Users\\shifeng.du\\AppData\\Local\\Temp\\ipykernel_2540\\2763353775.py:12: SettingWithCopyWarning: \n",
      "A value is trying to be set on a copy of a slice from a DataFrame\n",
      "\n",
      "See the caveats in the documentation: https://pandas.pydata.org/pandas-docs/stable/user_guide/indexing.html#returning-a-view-versus-a-copy\n",
      "  x[\"Age\"].fillna(x[\"Age\"].mean(), inplace=True)\n"
     ]
    },
    {
     "name": "stdout",
     "output_type": "stream",
     "text": [
      "随机森林预测的准确率为： 0.770949720670391\n"
     ]
    }
   ],
   "source": [
    "import pandas as pd\n",
    "import numpy as np\n",
    "from sklearn.model_selection import train_test_split, GridSearchCV  #训练集测试集划分，交叉验证\n",
    "from sklearn.feature_extraction import DictVectorizer  #特征选择\n",
    "from sklearn.ensemble import RandomForestClassifier    #模型\n",
    "\n",
    "titanic = pd.read_csv(fr'C:\\Users\\shifeng.du\\Desktop\\github\\sklearn-model\\data\\titanic.csv')\n",
    "\n",
    "x = titanic[['Pclass', 'Age', 'Sex']]\n",
    "y = titanic['Survived']\n",
    "\n",
    "x[\"Age\"].fillna(x[\"Age\"].mean(), inplace=True)\n",
    "\n",
    "x_train, x_test, y_train, y_test = train_test_split(x, y, test_size=0.2, random_state=22)\n",
    "\n",
    "transfer = DictVectorizer(sparse=False) \n",
    "x_train = transfer.fit_transform(x_train.to_dict(orient=\"records\"))\n",
    "x_test = transfer.fit_transform(x_test.to_dict(orient=\"records\"))\n",
    "\n",
    "rfc = RandomForestClassifier()\n",
    "param = {\"n_estimators\": [120,200,300,500,800,1200], \"max_depth\": [5, 8, 15, 25, 30]}\n",
    "gc = GridSearchCV(rfc, param_grid=param, cv=2) \n",
    "gc.fit(x_train, y_train) \n",
    "print(\"随机森林预测的准确率为：\", gc.score(x_test, y_test))\n"
   ]
  }
 ],
 "metadata": {
  "kernelspec": {
   "display_name": "Python 3",
   "language": "python",
   "name": "python3"
  },
  "language_info": {
   "codemirror_mode": {
    "name": "ipython",
    "version": 3
   },
   "file_extension": ".py",
   "mimetype": "text/x-python",
   "name": "python",
   "nbconvert_exporter": "python",
   "pygments_lexer": "ipython3",
   "version": "3.10.4"
  }
 },
 "nbformat": 4,
 "nbformat_minor": 2
}
